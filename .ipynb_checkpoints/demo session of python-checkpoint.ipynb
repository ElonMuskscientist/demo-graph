{
 "cells": [
  {
   "cell_type": "code",
   "execution_count": 1,
   "id": "a1794d5d-c66b-4964-8db6-6a6e3d01f788",
   "metadata": {},
   "outputs": [
    {
     "data": {
      "text/plain": [
       "5"
      ]
     },
     "execution_count": 1,
     "metadata": {},
     "output_type": "execute_result"
    }
   ],
   "source": [
    "2+3"
   ]
  },
  {
   "cell_type": "code",
   "execution_count": 3,
   "id": "6229b658-00e7-4890-9647-e99a2131201a",
   "metadata": {},
   "outputs": [],
   "source": [
    "v='venkatesh'"
   ]
  },
  {
   "cell_type": "code",
   "execution_count": 4,
   "id": "06d921d4-8fde-4199-9076-b9621c3888b0",
   "metadata": {},
   "outputs": [
    {
     "data": {
      "text/plain": [
       "'venkatesh'"
      ]
     },
     "execution_count": 4,
     "metadata": {},
     "output_type": "execute_result"
    }
   ],
   "source": [
    "v"
   ]
  },
  {
   "cell_type": "code",
   "execution_count": 5,
   "id": "cf644bf7-3cb6-4046-b97b-f66a1bc8bf15",
   "metadata": {},
   "outputs": [],
   "source": [
    "s='srikanth'"
   ]
  },
  {
   "cell_type": "code",
   "execution_count": 6,
   "id": "aa613966-fa76-4b81-b2d4-2a9b57886e3e",
   "metadata": {},
   "outputs": [
    {
     "data": {
      "text/plain": [
       "'srikanth'"
      ]
     },
     "execution_count": 6,
     "metadata": {},
     "output_type": "execute_result"
    }
   ],
   "source": [
    "s"
   ]
  },
  {
   "cell_type": "code",
   "execution_count": 7,
   "id": "ea302077-eaf8-4bea-8fe1-47f5acbbab5b",
   "metadata": {},
   "outputs": [],
   "source": [
    "k='kotesh'"
   ]
  },
  {
   "cell_type": "code",
   "execution_count": 9,
   "id": "b1c06637-3b5c-43b9-8ab9-8bc1aa18edc0",
   "metadata": {},
   "outputs": [
    {
     "data": {
      "text/plain": [
       "'kotesh'"
      ]
     },
     "execution_count": 9,
     "metadata": {},
     "output_type": "execute_result"
    }
   ],
   "source": [
    "k"
   ]
  },
  {
   "cell_type": "code",
   "execution_count": 10,
   "id": "c176587e-f2ec-4522-ab8b-72a5747e3793",
   "metadata": {},
   "outputs": [],
   "source": [
    "numbers=12345"
   ]
  },
  {
   "cell_type": "code",
   "execution_count": 11,
   "id": "4b81eed4-9bcf-4700-b037-397b6fc6a92b",
   "metadata": {},
   "outputs": [
    {
     "data": {
      "text/plain": [
       "12345"
      ]
     },
     "execution_count": 11,
     "metadata": {},
     "output_type": "execute_result"
    }
   ],
   "source": [
    "numbers"
   ]
  },
  {
   "cell_type": "code",
   "execution_count": null,
   "id": "afa274f5-e55a-4125-a7ff-acea00e4f08b",
   "metadata": {},
   "outputs": [],
   "source": []
  }
 ],
 "metadata": {
  "kernelspec": {
   "display_name": "Python 3 (ipykernel)",
   "language": "python",
   "name": "python3"
  },
  "language_info": {
   "codemirror_mode": {
    "name": "ipython",
    "version": 3
   },
   "file_extension": ".py",
   "mimetype": "text/x-python",
   "name": "python",
   "nbconvert_exporter": "python",
   "pygments_lexer": "ipython3",
   "version": "3.10.8"
  }
 },
 "nbformat": 4,
 "nbformat_minor": 5
}
